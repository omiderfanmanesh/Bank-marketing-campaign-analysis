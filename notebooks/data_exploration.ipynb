{
 "cells": [
  {
   "cell_type": "code",
   "execution_count": 1,
   "metadata": {
    "collapsed": true
   },
   "outputs": [],
   "source": [
    "from data import load\n",
    "from configs import cfg"
   ]
  },
  {
   "cell_type": "code",
   "execution_count": 2,
   "outputs": [
    {
     "name": "stdout",
     "output_type": "stream",
     "text": [
      "--------------- description ---------------\n",
      "                age         job  marital  education default       balance  \\\n",
      "count   4521.000000        4521     4521       4521    4521   4521.000000   \n",
      "unique          NaN          12        3          4       2           NaN   \n",
      "top             NaN  management  married  secondary      no           NaN   \n",
      "freq            NaN         969     2797       2306    4445           NaN   \n",
      "mean      41.170095         NaN      NaN        NaN     NaN   1422.657819   \n",
      "std       10.576211         NaN      NaN        NaN     NaN   3009.638142   \n",
      "min       19.000000         NaN      NaN        NaN     NaN  -3313.000000   \n",
      "25%       33.000000         NaN      NaN        NaN     NaN     69.000000   \n",
      "50%       39.000000         NaN      NaN        NaN     NaN    444.000000   \n",
      "75%       49.000000         NaN      NaN        NaN     NaN   1480.000000   \n",
      "max       87.000000         NaN      NaN        NaN     NaN  71188.000000   \n",
      "\n",
      "       housing  loan   contact          day month     duration     campaign  \\\n",
      "count     4521  4521      4521  4521.000000  4521  4521.000000  4521.000000   \n",
      "unique       2     2         3          NaN    12          NaN          NaN   \n",
      "top        yes    no  cellular          NaN   may          NaN          NaN   \n",
      "freq      2559  3830      2896          NaN  1398          NaN          NaN   \n",
      "mean       NaN   NaN       NaN    15.915284   NaN   263.961292     2.793630   \n",
      "std        NaN   NaN       NaN     8.247667   NaN   259.856633     3.109807   \n",
      "min        NaN   NaN       NaN     1.000000   NaN     4.000000     1.000000   \n",
      "25%        NaN   NaN       NaN     9.000000   NaN   104.000000     1.000000   \n",
      "50%        NaN   NaN       NaN    16.000000   NaN   185.000000     2.000000   \n",
      "75%        NaN   NaN       NaN    21.000000   NaN   329.000000     3.000000   \n",
      "max        NaN   NaN       NaN    31.000000   NaN  3025.000000    50.000000   \n",
      "\n",
      "              pdays     previous poutcome     y  \n",
      "count   4521.000000  4521.000000     4521  4521  \n",
      "unique          NaN          NaN        4     2  \n",
      "top             NaN          NaN  unknown    no  \n",
      "freq            NaN          NaN     3705  4000  \n",
      "mean      39.766645     0.542579      NaN   NaN  \n",
      "std      100.121124     1.693562      NaN   NaN  \n",
      "min       -1.000000     0.000000      NaN   NaN  \n",
      "25%       -1.000000     0.000000      NaN   NaN  \n",
      "50%       -1.000000     0.000000      NaN   NaN  \n",
      "75%       -1.000000     0.000000      NaN   NaN  \n",
      "max      871.000000    25.000000      NaN   NaN  \n",
      "\n",
      "\n",
      "--------------- nan Values ----------------\n",
      "age          0\n",
      "job          0\n",
      "marital      0\n",
      "education    0\n",
      "default      0\n",
      "balance      0\n",
      "housing      0\n",
      "loan         0\n",
      "contact      0\n",
      "day          0\n",
      "month        0\n",
      "duration     0\n",
      "campaign     0\n",
      "pdays        0\n",
      "previous     0\n",
      "poutcome     0\n",
      "y            0\n",
      "dtype: int64\n",
      "\n",
      "\n",
      "--------------- duplicates ----------------\n",
      "0\n"
     ]
    }
   ],
   "source": [
    "bank = load(cfg)\n",
    "bank.load()\n",
    "bank.description()"
   ],
   "metadata": {
    "collapsed": false,
    "pycharm": {
     "name": "#%%\n"
    }
   }
  },
  {
   "cell_type": "code",
   "execution_count": 3,
   "outputs": [
    {
     "data": {
      "text/plain": "               age       balance          day     duration     campaign  \\\ncount  4521.000000   4521.000000  4521.000000  4521.000000  4521.000000   \nmean     41.170095   1422.657819    15.915284   263.961292     2.793630   \nstd      10.576211   3009.638142     8.247667   259.856633     3.109807   \nmin      19.000000  -3313.000000     1.000000     4.000000     1.000000   \n25%      33.000000     69.000000     9.000000   104.000000     1.000000   \n50%      39.000000    444.000000    16.000000   185.000000     2.000000   \n75%      49.000000   1480.000000    21.000000   329.000000     3.000000   \nmax      87.000000  71188.000000    31.000000  3025.000000    50.000000   \n\n             pdays     previous  \ncount  4521.000000  4521.000000  \nmean     39.766645     0.542579  \nstd     100.121124     1.693562  \nmin      -1.000000     0.000000  \n25%      -1.000000     0.000000  \n50%      -1.000000     0.000000  \n75%      -1.000000     0.000000  \nmax     871.000000    25.000000  ",
      "text/html": "<div>\n<style scoped>\n    .dataframe tbody tr th:only-of-type {\n        vertical-align: middle;\n    }\n\n    .dataframe tbody tr th {\n        vertical-align: top;\n    }\n\n    .dataframe thead th {\n        text-align: right;\n    }\n</style>\n<table border=\"1\" class=\"dataframe\">\n  <thead>\n    <tr style=\"text-align: right;\">\n      <th></th>\n      <th>age</th>\n      <th>balance</th>\n      <th>day</th>\n      <th>duration</th>\n      <th>campaign</th>\n      <th>pdays</th>\n      <th>previous</th>\n    </tr>\n  </thead>\n  <tbody>\n    <tr>\n      <th>count</th>\n      <td>4521.000000</td>\n      <td>4521.000000</td>\n      <td>4521.000000</td>\n      <td>4521.000000</td>\n      <td>4521.000000</td>\n      <td>4521.000000</td>\n      <td>4521.000000</td>\n    </tr>\n    <tr>\n      <th>mean</th>\n      <td>41.170095</td>\n      <td>1422.657819</td>\n      <td>15.915284</td>\n      <td>263.961292</td>\n      <td>2.793630</td>\n      <td>39.766645</td>\n      <td>0.542579</td>\n    </tr>\n    <tr>\n      <th>std</th>\n      <td>10.576211</td>\n      <td>3009.638142</td>\n      <td>8.247667</td>\n      <td>259.856633</td>\n      <td>3.109807</td>\n      <td>100.121124</td>\n      <td>1.693562</td>\n    </tr>\n    <tr>\n      <th>min</th>\n      <td>19.000000</td>\n      <td>-3313.000000</td>\n      <td>1.000000</td>\n      <td>4.000000</td>\n      <td>1.000000</td>\n      <td>-1.000000</td>\n      <td>0.000000</td>\n    </tr>\n    <tr>\n      <th>25%</th>\n      <td>33.000000</td>\n      <td>69.000000</td>\n      <td>9.000000</td>\n      <td>104.000000</td>\n      <td>1.000000</td>\n      <td>-1.000000</td>\n      <td>0.000000</td>\n    </tr>\n    <tr>\n      <th>50%</th>\n      <td>39.000000</td>\n      <td>444.000000</td>\n      <td>16.000000</td>\n      <td>185.000000</td>\n      <td>2.000000</td>\n      <td>-1.000000</td>\n      <td>0.000000</td>\n    </tr>\n    <tr>\n      <th>75%</th>\n      <td>49.000000</td>\n      <td>1480.000000</td>\n      <td>21.000000</td>\n      <td>329.000000</td>\n      <td>3.000000</td>\n      <td>-1.000000</td>\n      <td>0.000000</td>\n    </tr>\n    <tr>\n      <th>max</th>\n      <td>87.000000</td>\n      <td>71188.000000</td>\n      <td>31.000000</td>\n      <td>3025.000000</td>\n      <td>50.000000</td>\n      <td>871.000000</td>\n      <td>25.000000</td>\n    </tr>\n  </tbody>\n</table>\n</div>"
     },
     "execution_count": 3,
     "metadata": {},
     "output_type": "execute_result"
    }
   ],
   "source": [
    "df = bank.df\n",
    "df.describe()"
   ],
   "metadata": {
    "collapsed": false,
    "pycharm": {
     "name": "#%%\n"
    }
   }
  }
 ],
 "metadata": {
  "kernelspec": {
   "display_name": "Python 3",
   "language": "python",
   "name": "python3"
  },
  "language_info": {
   "codemirror_mode": {
    "name": "ipython",
    "version": 2
   },
   "file_extension": ".py",
   "mimetype": "text/x-python",
   "name": "python",
   "nbconvert_exporter": "python",
   "pygments_lexer": "ipython2",
   "version": "2.7.6"
  }
 },
 "nbformat": 4,
 "nbformat_minor": 0
}